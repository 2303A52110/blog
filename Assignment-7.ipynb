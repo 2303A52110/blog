{
  "nbformat": 4,
  "nbformat_minor": 0,
  "metadata": {
    "colab": {
      "provenance": [],
      "authorship_tag": "ABX9TyO5XHQX8pn4RdU+0/PhwZFr",
      "include_colab_link": true
    },
    "kernelspec": {
      "name": "python3",
      "display_name": "Python 3"
    },
    "language_info": {
      "name": "python"
    }
  },
  "cells": [
    {
      "cell_type": "markdown",
      "metadata": {
        "id": "view-in-github",
        "colab_type": "text"
      },
      "source": [
        "<a href=\"https://colab.research.google.com/github/2303A52110/blog/blob/master/Assignment-7.ipynb\" target=\"_parent\"><img src=\"https://colab.research.google.com/assets/colab-badge.svg\" alt=\"Open In Colab\"/></a>"
      ]
    },
    {
      "cell_type": "code",
      "execution_count": 2,
      "metadata": {
        "colab": {
          "base_uri": "https://localhost:8080/"
        },
        "id": "o1iET-0JilUA",
        "outputId": "ebf2b2ea-5eb4-4484-bb5a-51c04bbc6567"
      },
      "outputs": [
        {
          "output_type": "stream",
          "name": "stdout",
          "text": [
            "Delivery Fee: 100\n",
            "Order placed: Pizza\n",
            "Agent A notified: New order Pizza\n",
            "Agent B notified: New order Pizza\n",
            "Tracking order: Pizza → On the way!\n"
          ]
        }
      ],
      "source": [
        "# Observer Pattern\n",
        "class Observer:\n",
        "    def update(self, order):\n",
        "        pass\n",
        "\n",
        "class DeliveryAgent(Observer):\n",
        "    def __init__(self, name):\n",
        "        self.name = name\n",
        "    def update(self, order):\n",
        "        print(f\"{self.name} notified: New order {order}\")\n",
        "\n",
        "class Restaurant:\n",
        "    def __init__(self):\n",
        "        self.agents = []\n",
        "    def attach(self, agent):\n",
        "        self.agents.append(agent)\n",
        "    def notify(self, order):\n",
        "        for agent in self.agents:\n",
        "            agent.update(order)\n",
        "\n",
        "# Strategy Pattern\n",
        "class DeliveryStrategy:\n",
        "    def calculate_fee(self):\n",
        "        pass\n",
        "\n",
        "class StandardDelivery(DeliveryStrategy):\n",
        "    def calculate_fee(self):\n",
        "        return 50\n",
        "class ExpressDelivery(DeliveryStrategy):\n",
        "    def calculate_fee(self):\n",
        "        return 100\n",
        "class FreeDelivery(DeliveryStrategy):\n",
        "    def calculate_fee(self):\n",
        "        return 0\n",
        "\n",
        "# Command Pattern\n",
        "class Command:\n",
        "    def execute(self):\n",
        "        pass\n",
        "\n",
        "class PlaceOrderCommand(Command):\n",
        "    def __init__(self, restaurant, order):\n",
        "        self.restaurant = restaurant\n",
        "        self.order = order\n",
        "    def execute(self):\n",
        "        print(f\"Order placed: {self.order}\")\n",
        "        self.restaurant.notify(self.order)\n",
        "\n",
        "class CancelOrderCommand(Command):\n",
        "    def __init__(self, order):\n",
        "        self.order = order\n",
        "    def execute(self):\n",
        "        print(f\"Order canceled: {self.order}\")\n",
        "\n",
        "class TrackOrderCommand(Command):\n",
        "    def __init__(self, order):\n",
        "        self.order = order\n",
        "    def execute(self):\n",
        "        print(f\"Tracking order: {self.order} → On the way!\")\n",
        "\n",
        "# Demo\n",
        "rest = Restaurant()\n",
        "agent1 = DeliveryAgent(\"Agent A\")\n",
        "agent2 = DeliveryAgent(\"Agent B\")\n",
        "rest.attach(agent1)\n",
        "rest.attach(agent2)\n",
        "\n",
        "# Place order with strategy\n",
        "order = \"Pizza\"\n",
        "delivery_strategy = ExpressDelivery()\n",
        "print(\"Delivery Fee:\", delivery_strategy.calculate_fee())\n",
        "\n",
        "place_order = PlaceOrderCommand(rest, order)\n",
        "place_order.execute()\n",
        "\n",
        "track = TrackOrderCommand(order)\n",
        "track.execute()"
      ]
    }
  ]
}